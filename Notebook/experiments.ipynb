{
 "cells": [
  {
   "cell_type": "code",
   "execution_count": 1,
   "id": "b5d2df9e",
   "metadata": {},
   "outputs": [
    {
     "name": "stdout",
     "output_type": "stream",
     "text": [
      "Kernel working fine!\n"
     ]
    }
   ],
   "source": [
    "print(\"Kernel working fine!\")"
   ]
  },
  {
   "cell_type": "code",
   "execution_count": 2,
   "id": "3e669e56",
   "metadata": {},
   "outputs": [
    {
     "data": {
      "text/plain": [
       "True"
      ]
     },
     "execution_count": 2,
     "metadata": {},
     "output_type": "execute_result"
    }
   ],
   "source": [
    "import os\n",
    "from dotenv import load_dotenv\n",
    "\n",
    "load_dotenv()"
   ]
  },
  {
   "cell_type": "code",
   "execution_count": 3,
   "id": "2e130562",
   "metadata": {},
   "outputs": [],
   "source": [
    "GOOGLE_API_KEY = os.getenv(\"GOOGLE_API_KEY\")"
   ]
  },
  {
   "cell_type": "code",
   "execution_count": 4,
   "id": "6fbe156a",
   "metadata": {},
   "outputs": [
    {
     "name": "stdout",
     "output_type": "stream",
     "text": [
      "API key fetched!\n"
     ]
    }
   ],
   "source": [
    "if GOOGLE_API_KEY == \"\":\n",
    "    print(\"API key cannot be fetched!\")\n",
    "else:\n",
    "    print(\"API key fetched!\")"
   ]
  },
  {
   "cell_type": "code",
   "execution_count": 5,
   "id": "da498c3a",
   "metadata": {},
   "outputs": [
    {
     "name": "stderr",
     "output_type": "stream",
     "text": [
      "/Users/atharva7/Downloads/QA System/qasystem/lib/python3.9/site-packages/tqdm/auto.py:21: TqdmWarning: IProgress not found. Please update jupyter and ipywidgets. See https://ipywidgets.readthedocs.io/en/stable/user_install.html\n",
      "  from .autonotebook import tqdm as notebook_tqdm\n"
     ]
    }
   ],
   "source": [
    "from llama_index.core.readers import SimpleDirectoryReader\n",
    "from llama_index.core import VectorStoreIndex\n",
    "from llama_index.llms.gemini import Gemini\n",
    "from IPython.display import display, Markdown\n",
    "from llama_index.core import ServiceContext\n",
    "from llama_index.core import StorageContext, load_index_from_storage\n",
    "import google.generativeai as genai\n",
    "from llama_index.embeddings.gemini import GeminiEmbedding"
   ]
  },
  {
   "cell_type": "code",
   "execution_count": 6,
   "id": "5b7c0e92",
   "metadata": {},
   "outputs": [],
   "source": [
    "genai.configure(api_key=GOOGLE_API_KEY)"
   ]
  },
  {
   "cell_type": "code",
   "execution_count": 7,
   "id": "01ccf432",
   "metadata": {},
   "outputs": [
    {
     "name": "stdout",
     "output_type": "stream",
     "text": [
      "models/gemini-1.0-pro-vision-latest\n",
      "models/gemini-pro-vision\n",
      "models/gemini-1.5-pro-latest\n",
      "models/gemini-1.5-pro-001\n",
      "models/gemini-1.5-pro-002\n",
      "models/gemini-1.5-pro\n",
      "models/gemini-1.5-flash-latest\n",
      "models/gemini-1.5-flash-001\n",
      "models/gemini-1.5-flash-001-tuning\n",
      "models/gemini-1.5-flash\n",
      "models/gemini-1.5-flash-002\n",
      "models/gemini-1.5-flash-8b\n",
      "models/gemini-1.5-flash-8b-001\n",
      "models/gemini-1.5-flash-8b-latest\n",
      "models/gemini-1.5-flash-8b-exp-0827\n",
      "models/gemini-1.5-flash-8b-exp-0924\n",
      "models/gemini-2.5-pro-exp-03-25\n",
      "models/gemini-2.5-pro-preview-03-25\n",
      "models/gemini-2.5-flash-preview-04-17\n",
      "models/gemini-2.5-flash-preview-05-20\n",
      "models/gemini-2.5-flash-preview-04-17-thinking\n",
      "models/gemini-2.5-pro-preview-05-06\n",
      "models/gemini-2.0-flash-exp\n",
      "models/gemini-2.0-flash\n",
      "models/gemini-2.0-flash-001\n",
      "models/gemini-2.0-flash-exp-image-generation\n",
      "models/gemini-2.0-flash-lite-001\n",
      "models/gemini-2.0-flash-lite\n",
      "models/gemini-2.0-flash-preview-image-generation\n",
      "models/gemini-2.0-flash-lite-preview-02-05\n",
      "models/gemini-2.0-flash-lite-preview\n",
      "models/gemini-2.0-pro-exp\n",
      "models/gemini-2.0-pro-exp-02-05\n",
      "models/gemini-exp-1206\n",
      "models/gemini-2.0-flash-thinking-exp-01-21\n",
      "models/gemini-2.0-flash-thinking-exp\n",
      "models/gemini-2.0-flash-thinking-exp-1219\n",
      "models/gemini-2.5-flash-preview-tts\n",
      "models/gemini-2.5-pro-preview-tts\n",
      "models/learnlm-2.0-flash-experimental\n",
      "models/gemma-3-1b-it\n",
      "models/gemma-3-4b-it\n",
      "models/gemma-3-12b-it\n",
      "models/gemma-3-27b-it\n",
      "models/gemma-3n-e4b-it\n"
     ]
    }
   ],
   "source": [
    "for models in genai.list_models():\n",
    "    if 'generateContent' in models.supported_generation_methods:\n",
    "        print(models.name)"
   ]
  },
  {
   "cell_type": "code",
   "execution_count": 8,
   "id": "f54608ba",
   "metadata": {},
   "outputs": [],
   "source": [
    "documents = SimpleDirectoryReader(\"../Data\")"
   ]
  },
  {
   "cell_type": "code",
   "execution_count": 9,
   "id": "405bdf7f",
   "metadata": {},
   "outputs": [],
   "source": [
    "documents = documents.load_data()"
   ]
  },
  {
   "cell_type": "code",
   "execution_count": 10,
   "id": "c0fcb69b",
   "metadata": {},
   "outputs": [
    {
     "name": "stderr",
     "output_type": "stream",
     "text": [
      "/var/folders/8j/ythr_y152qx4ycdfpz80jjf80000gn/T/ipykernel_45919/3857009644.py:1: DeprecationWarning: Call to deprecated class GeminiEmbedding. (Should use `llama-index-embeddings-google-genai` instead, using Google's latest unified SDK. See: https://docs.llamaindex.ai/en/stable/examples/embeddings/google_genai/)\n",
      "  gemini_embed_model = GeminiEmbedding(model_name='models/embedding-001')\n"
     ]
    }
   ],
   "source": [
    "gemini_embed_model = GeminiEmbedding(model_name='models/embedding-001')"
   ]
  },
  {
   "cell_type": "code",
   "execution_count": 11,
   "id": "d8808bba",
   "metadata": {},
   "outputs": [
    {
     "name": "stderr",
     "output_type": "stream",
     "text": [
      "/var/folders/8j/ythr_y152qx4ycdfpz80jjf80000gn/T/ipykernel_45919/4206100260.py:1: DeprecationWarning: Call to deprecated class Gemini. (Should use `llama-index-llms-google-genai` instead, using Google's latest unified SDK. See: https://docs.llamaindex.ai/en/stable/examples/llm/google_genai/)\n",
      "  model = Gemini(models='gemini-1.5-pro-latest', api_key=GOOGLE_API_KEY)\n"
     ]
    }
   ],
   "source": [
    "model = Gemini(models='gemini-1.5-pro-latest', api_key=GOOGLE_API_KEY)"
   ]
  },
  {
   "cell_type": "code",
   "execution_count": 12,
   "id": "0c861296",
   "metadata": {},
   "outputs": [],
   "source": [
    "# Now we will configure the service context.\n",
    "from llama_index.core import Settings\n",
    "from llama_index.core.node_parser import SentenceSplitter\n",
    "\n",
    "# Set the new configuration\n",
    "Settings.llm = model \n",
    "Settings.embed_model = gemini_embed_model  \n",
    "Settings.node_parser = SentenceSplitter(chunk_size=500, chunk_overlap=20)\n"
   ]
  },
  {
   "cell_type": "code",
   "execution_count": 13,
   "id": "a9a25efe",
   "metadata": {},
   "outputs": [],
   "source": [
    "index = VectorStoreIndex.from_documents(documents)"
   ]
  },
  {
   "cell_type": "code",
   "execution_count": 14,
   "id": "d8d024a0",
   "metadata": {},
   "outputs": [
    {
     "data": {
      "text/plain": [
       "<llama_index.core.indices.vector_store.base.VectorStoreIndex at 0x111049160>"
      ]
     },
     "execution_count": 14,
     "metadata": {},
     "output_type": "execute_result"
    }
   ],
   "source": [
    "index"
   ]
  },
  {
   "cell_type": "code",
   "execution_count": 15,
   "id": "e9708998",
   "metadata": {},
   "outputs": [],
   "source": [
    "index.storage_context.persist()"
   ]
  },
  {
   "cell_type": "code",
   "execution_count": 16,
   "id": "50ada190",
   "metadata": {},
   "outputs": [],
   "source": [
    "query_engine = index.as_query_engine()"
   ]
  },
  {
   "cell_type": "code",
   "execution_count": 17,
   "id": "16de2c48",
   "metadata": {},
   "outputs": [],
   "source": [
    "response = query_engine.query(\"What is meant by quantum physics?\")"
   ]
  },
  {
   "cell_type": "code",
   "execution_count": 18,
   "id": "9ef7de97",
   "metadata": {},
   "outputs": [
    {
     "data": {
      "text/plain": [
       "Response(response='Quantum mechanics refers to a system where the number of particles is fixed and the fields are continuous classical entities, but it is also often used to refer to the entire notion of quantum view.\\n', source_nodes=[NodeWithScore(node=TextNode(id_='b26ca568-1d9d-4d58-960a-3d6af270cc64', embedding=None, metadata={'file_path': '/Users/atharva7/Downloads/QA System/Notebook/../Data/Quantum_PHY.txt', 'file_name': 'Quantum_PHY.txt', 'file_type': 'text/plain', 'file_size': 35270, 'creation_date': '2025-06-04', 'last_modified_date': '2025-06-04'}, excluded_embed_metadata_keys=['file_name', 'file_type', 'file_size', 'creation_date', 'last_modified_date', 'last_accessed_date'], excluded_llm_metadata_keys=['file_name', 'file_type', 'file_size', 'creation_date', 'last_modified_date', 'last_accessed_date'], relationships={<NodeRelationship.SOURCE: '1'>: RelatedNodeInfo(node_id='b5c80d51-1ed4-40ee-853c-7dd4334e3212', node_type='4', metadata={'file_path': '/Users/atharva7/Downloads/QA System/Notebook/../Data/Quantum_PHY.txt', 'file_name': 'Quantum_PHY.txt', 'file_type': 'text/plain', 'file_size': 35270, 'creation_date': '2025-06-04', 'last_modified_date': '2025-06-04'}, hash='6700f9bed24cf03167a4b504740734d7f3e1db53620599a4194b9222c9e67d50'), <NodeRelationship.PREVIOUS: '2'>: RelatedNodeInfo(node_id='712eaa09-cf56-459d-adba-7c2c35e11577', node_type='1', metadata={'file_path': '/Users/atharva7/Downloads/QA System/Notebook/../Data/Quantum_PHY.txt', 'file_name': 'Quantum_PHY.txt', 'file_type': 'text/plain', 'file_size': 35270, 'creation_date': '2025-06-04', 'last_modified_date': '2025-06-04'}, hash='cdb8f0f64544af37f9d81863fac4416247c2dc4c48a359476a8b40f08a4588f8'), <NodeRelationship.NEXT: '3'>: RelatedNodeInfo(node_id='e2b4c7c9-c445-4924-8a23-a5a3d3e0122e', node_type='1', metadata={}, hash='b9d31ca0c698bec947dbe19e728abb5c7bd1419e1b5d0b7b378351d4563071d9')}, metadata_template='{key}: {value}', metadata_separator='\\n', text='In other words, the results of these experiments are incompatible with any local hidden variable theory.[45][46]\\n\\nQuantum field theory\\nMain article: Quantum field theory\\nThe idea of quantum field theory began in the late 1920s with British physicist Paul Dirac, when he attempted to quantize the energy of the electromagnetic field; just as in quantum mechanics the energy of an electron in the hydrogen atom was quantized. Quantization is a procedure for constructing a quantum theory starting from a classical theory.\\n\\nMerriam-Webster defines a field in physics as \"a region or space in which a given effect (such as magnetism) exists\".[47] Other effects that manifest themselves as fields are gravitation and static electricity.[48] In 2008, physicist Richard Hammond wrote:\\n\\nSometimes we distinguish between quantum mechanics (QM) and quantum field theory (QFT). QM refers to a system in which the number of particles is fixed, and the fields (such as the electromechanical field) are continuous classical entities. QFT ... goes a step further and allows for the creation and annihilation of particles ...\\n\\nHe added, however, that quantum mechanics is often used to refer to \"the entire notion of quantum view\".[49]:\\u200a108\\u200a\\n\\nIn 1931, Dirac proposed the existence of particles that later became known as antimatter.[50] Dirac shared the Nobel Prize in Physics for 1933 with Schrödinger \"for the discovery of new productive forms of atomic theory\".[51]\\n\\nQuantum electrodynamics\\nMain article: Quantum electrodynamics\\nQuantum electrodynamics (QED) is the name of the quantum theory of the electromagnetic force. Understanding QED begins with understanding electromagnetism. Electromagnetism can be called \"electrodynamics\" because it is a dynamic interaction between electrical and magnetic forces. Electromagnetism begins with the electric charge.\\n\\nElectric charges are the sources of and create, electric fields. An electric field is a field that exerts a force on any particles that carry electric charges, at any point in space. This includes the electron, proton, and even quarks, among others.', mimetype='text/plain', start_char_idx=26107, end_char_idx=28204, metadata_seperator='\\n', text_template='{metadata_str}\\n\\n{content}'), score=0.7080420861045033), NodeWithScore(node=TextNode(id_='93d81841-3096-47bc-81c3-df80ea6bcd59', embedding=None, metadata={'file_path': '/Users/atharva7/Downloads/QA System/Notebook/../Data/Quantum_PHY.txt', 'file_name': 'Quantum_PHY.txt', 'file_type': 'text/plain', 'file_size': 35270, 'creation_date': '2025-06-04', 'last_modified_date': '2025-06-04'}, excluded_embed_metadata_keys=['file_name', 'file_type', 'file_size', 'creation_date', 'last_modified_date', 'last_accessed_date'], excluded_llm_metadata_keys=['file_name', 'file_type', 'file_size', 'creation_date', 'last_modified_date', 'last_accessed_date'], relationships={<NodeRelationship.SOURCE: '1'>: RelatedNodeInfo(node_id='b5c80d51-1ed4-40ee-853c-7dd4334e3212', node_type='4', metadata={'file_path': '/Users/atharva7/Downloads/QA System/Notebook/../Data/Quantum_PHY.txt', 'file_name': 'Quantum_PHY.txt', 'file_type': 'text/plain', 'file_size': 35270, 'creation_date': '2025-06-04', 'last_modified_date': '2025-06-04'}, hash='6700f9bed24cf03167a4b504740734d7f3e1db53620599a4194b9222c9e67d50'), <NodeRelationship.PREVIOUS: '2'>: RelatedNodeInfo(node_id='e2b4c7c9-c445-4924-8a23-a5a3d3e0122e', node_type='1', metadata={'file_path': '/Users/atharva7/Downloads/QA System/Notebook/../Data/Quantum_PHY.txt', 'file_name': 'Quantum_PHY.txt', 'file_type': 'text/plain', 'file_size': 35270, 'creation_date': '2025-06-04', 'last_modified_date': '2025-06-04'}, hash='b91d76bf3ece591dc31c7c21029a2eb438a6a185d7d97966b1e46321aab6d43a'), <NodeRelationship.NEXT: '3'>: RelatedNodeInfo(node_id='b1c28ddd-b19b-48ad-9a78-2dea9a4b7383', node_type='1', metadata={}, hash='5e679e6ad36db811bb1a01d3d3def6e81d3a794609d1b63bd2e0222a537dc00b')}, metadata_template='{key}: {value}', metadata_separator='\\n', text='Since then, proof of the top quark (1995), the tau neutrino (2000), and the Higgs boson (2012) have added further credence to the Standard Model. In addition, the Standard Model has predicted various properties of weak neutral currents and the W and Z bosons with great accuracy.\\n\\nAlthough the Standard Model is believed to be theoretically self-consistent and has demonstrated success in providing experimental predictions, it leaves some physical phenomena unexplained and so falls short of being a complete theory of fundamental interactions. For example, it does not fully explain baryon asymmetry, incorporate the full theory of gravitation as described by general relativity, or account for the universe\\'s accelerating expansion as possibly described by dark energy. The model does not contain any viable dark matter particle that possesses all of the required properties deduced from observational cosmology. It also does not incorporate neutrino oscillations and their non-zero masses. Accordingly, it is used as a basis for building more exotic models that incorporate hypothetical particles, extra dimensions, and elaborate symmetries (such as supersymmetry) to explain experimental results at variance with the Standard Model, such as the existence of dark matter and neutrino oscillations.\\n\\nInterpretations\\nMain article: Interpretations of quantum mechanics\\nThe physical measurements, equations, and predictions pertinent to quantum mechanics are all consistent and hold a very high level of confirmation. However, the question of what these abstract models say about the underlying nature of the real world has received competing answers. These interpretations are widely varying and sometimes somewhat abstract. For instance, the Copenhagen interpretation states that before a measurement, statements about a particle\\'s properties are completely meaningless, while the many-worlds interpretation describes the existence of a multiverse made up of every possible universe.[53]\\n\\nLight behaves in some aspects like particles and in other aspects like waves. Matter—the \"stuff\" of the universe consisting of particles such as electrons and atoms—exhibits wavelike behavior too. Some light sources, such as neon lights, give off only certain specific frequencies of light, a small set of distinct pure colors determined by neon\\'s atomic structure.', mimetype='text/plain', start_char_idx=30565, end_char_idx=32921, metadata_seperator='\\n', text_template='{metadata_str}\\n\\n{content}'), score=0.7045639558604522)], metadata={'b26ca568-1d9d-4d58-960a-3d6af270cc64': {'file_path': '/Users/atharva7/Downloads/QA System/Notebook/../Data/Quantum_PHY.txt', 'file_name': 'Quantum_PHY.txt', 'file_type': 'text/plain', 'file_size': 35270, 'creation_date': '2025-06-04', 'last_modified_date': '2025-06-04'}, '93d81841-3096-47bc-81c3-df80ea6bcd59': {'file_path': '/Users/atharva7/Downloads/QA System/Notebook/../Data/Quantum_PHY.txt', 'file_name': 'Quantum_PHY.txt', 'file_type': 'text/plain', 'file_size': 35270, 'creation_date': '2025-06-04', 'last_modified_date': '2025-06-04'}})"
      ]
     },
     "execution_count": 18,
     "metadata": {},
     "output_type": "execute_result"
    }
   ],
   "source": [
    "response"
   ]
  },
  {
   "cell_type": "code",
   "execution_count": 19,
   "id": "78187b14",
   "metadata": {},
   "outputs": [
    {
     "name": "stdout",
     "output_type": "stream",
     "text": [
      "Quantum mechanics refers to a system where the number of particles is fixed and the fields are continuous classical entities, but it is also often used to refer to the entire notion of quantum view.\n",
      "\n"
     ]
    }
   ],
   "source": [
    "print(response.response)"
   ]
  },
  {
   "cell_type": "code",
   "execution_count": 20,
   "id": "4e2e3824",
   "metadata": {},
   "outputs": [],
   "source": [
    "response2 = query_engine.query(\"What is the use of quantum physics in our day to day life?\")"
   ]
  },
  {
   "cell_type": "code",
   "execution_count": 21,
   "id": "f599819c",
   "metadata": {},
   "outputs": [
    {
     "name": "stdout",
     "output_type": "stream",
     "text": [
      "Quantum physics is used in lasers, transistors, electron microscopes, magnetic resonance imaging, light switches, and flash memory chips.\n",
      "\n"
     ]
    }
   ],
   "source": [
    "print(response2.response)"
   ]
  },
  {
   "cell_type": "code",
   "execution_count": 22,
   "id": "a6affc7d",
   "metadata": {},
   "outputs": [],
   "source": [
    "response3 = query_engine.query(\"What is a water bottle?\")"
   ]
  },
  {
   "cell_type": "code",
   "execution_count": 23,
   "id": "0151eea3",
   "metadata": {},
   "outputs": [
    {
     "name": "stdout",
     "output_type": "stream",
     "text": [
      "I'm sorry, but the provided text does not contain information about water bottles.\n",
      "\n"
     ]
    }
   ],
   "source": [
    "print(response3.response)"
   ]
  },
  {
   "cell_type": "code",
   "execution_count": 25,
   "id": "7890d8bf",
   "metadata": {},
   "outputs": [],
   "source": [
    "from duckduckgo_search import DDGS"
   ]
  },
  {
   "cell_type": "code",
   "execution_count": 27,
   "id": "6b248151",
   "metadata": {},
   "outputs": [],
   "source": [
    "def web_search(query, max_results=3):\n",
    "    with DDGS() as ddgs:\n",
    "        results = ddgs.text(query, max_results=max_results)\n",
    "        return [res['body'] for res in results if 'body' in res]"
   ]
  },
  {
   "cell_type": "code",
   "execution_count": 28,
   "id": "77e9fa06",
   "metadata": {},
   "outputs": [],
   "source": [
    "def smart_query(query):\n",
    "    response = query_engine.query(query).response\n",
    "    print(\"🔎 Internal Response:\", response)\n",
    "\n",
    "    fallback_phrases = [\n",
    "        \"does not contain\", \"i don't know\", \"i'm sorry\", \"not found\", \"no relevant\", \"no information\"\n",
    "    ]\n",
    "    \n",
    "    if any(phrase in response.lower() for phrase in fallback_phrases):\n",
    "        print(\"⚠️ Internal knowledge insufficient. Searching web...\")\n",
    "        web_docs = web_search(query)\n",
    "        if not web_docs:\n",
    "            return \"❌ No information found on the web either.\"\n",
    "        \n",
    "        # Feed web docs into the LLM\n",
    "        combined_text = \"\\n\".join(web_docs)\n",
    "        web_response = model.complete(prompt=f\"Answer the following based on:\\n{combined_text}\\n\\nQ: {query}\\nA:\")\n",
    "        return web_response\n",
    "\n",
    "    return response"
   ]
  },
  {
   "cell_type": "code",
   "execution_count": 29,
   "id": "ee9fde8a",
   "metadata": {},
   "outputs": [
    {
     "name": "stdout",
     "output_type": "stream",
     "text": [
      "🔎 Internal Response: I'm sorry, but the provided text does not contain information about water bottles.\n",
      "\n",
      "⚠️ Internal knowledge insufficient. Searching web...\n"
     ]
    }
   ],
   "source": [
    "answer = smart_query(\"What is a water bottle?\")"
   ]
  },
  {
   "cell_type": "code",
   "execution_count": 30,
   "id": "2563a96b",
   "metadata": {},
   "outputs": [
    {
     "name": "stdout",
     "output_type": "stream",
     "text": [
      "Based on the provided information, a water bottle is:\n",
      "\n",
      "*   A container used to hold liquids, mainly water, for transporting a drink.\n",
      "*   A small bottle containing water for drinking.\n",
      "*   A container for carrying drinking water.\n",
      "\n"
     ]
    }
   ],
   "source": [
    "print(answer)"
   ]
  },
  {
   "cell_type": "code",
   "execution_count": 31,
   "id": "0a7a4266",
   "metadata": {},
   "outputs": [
    {
     "name": "stdout",
     "output_type": "stream",
     "text": [
      "🔎 Internal Response: Planck and Einstein initiated quantum physics.\n",
      "\n",
      "Planck and Einstein initiated quantum physics.\n",
      "\n"
     ]
    }
   ],
   "source": [
    "question = smart_query(\"who was the founder of quantum physics?\")\n",
    "print(question)"
   ]
  },
  {
   "cell_type": "code",
   "execution_count": null,
   "id": "560a0a5e",
   "metadata": {},
   "outputs": [],
   "source": []
  },
  {
   "cell_type": "code",
   "execution_count": null,
   "id": "e29a496f",
   "metadata": {},
   "outputs": [],
   "source": []
  }
 ],
 "metadata": {
  "kernelspec": {
   "display_name": "qasystem",
   "language": "python",
   "name": "python3"
  },
  "language_info": {
   "codemirror_mode": {
    "name": "ipython",
    "version": 3
   },
   "file_extension": ".py",
   "mimetype": "text/x-python",
   "name": "python",
   "nbconvert_exporter": "python",
   "pygments_lexer": "ipython3",
   "version": "3.9.21"
  }
 },
 "nbformat": 4,
 "nbformat_minor": 5
}
